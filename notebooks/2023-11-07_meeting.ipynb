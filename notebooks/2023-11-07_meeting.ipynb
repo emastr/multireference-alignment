{
 "cells": [
  {
   "cell_type": "code",
   "execution_count": 20,
   "metadata": {},
   "outputs": [],
   "source": [
    "import sys\n",
    "sys.path.append('/home/emastr/phd/projects/vahid_project/src/')\n",
    "sys.path.append('/home/emastr/phd/')\n",
    "\n",
    "from alignment_vmap import *\n",
    "import numpy as np\n",
    "import jax.numpy as jnp\n",
    "from numpy.fft import fft, ifft\n",
    "import jax\n",
    "from jax import vmap, grad, jit, random, lax\n",
    "from util.logger import EventTracker\n",
    "import matplotlib.pyplot as plt"
   ]
  },
  {
   "cell_type": "code",
   "execution_count": 21,
   "metadata": {},
   "outputs": [],
   "source": [
    "logger = EventTracker()\n",
    "d = 41\n",
    "N=int(1e4)\n",
    "noise=1.#1.\n",
    "\n",
    "\n",
    "#d = 5\n",
    "#N = int(4e3)\n",
    "#noise = 1/2.**0.5#1.#1.#1.\n",
    "\n",
    "## GENERATE SIGNAL\n",
    "t = np.linspace(0, 2*np.pi, d+1)[:-1]\n",
    "x = (t < np.pi).astype(float)\n",
    "#x = np.exp(4 * jnp.sin(t))\n",
    "#x = x / np.linalg.norm(x) * np.sqrt(d)\n",
    "xfft = fft(x)\n"
   ]
  },
  {
   "cell_type": "code",
   "execution_count": 22,
   "metadata": {},
   "outputs": [
    {
     "name": "stdout",
     "output_type": "stream",
     "text": [
      "Running 50 times\n",
      "step 89. res: 0.000317721453029662375\r"
     ]
    },
    {
     "data": {
      "text/plain": [
       "Array([0.03585596], dtype=float32)"
      ]
     },
     "execution_count": 22,
     "metadata": {},
     "output_type": "execute_result"
    }
   ],
   "source": [
    "\n",
    "iters = []\n",
    "losses = []\n",
    "xs = []\n",
    "\n",
    "\n",
    "def cb(xfft, res, it):\n",
    "    print(f\"step {it}. res: {res}\", end=\"\\r\")\n",
    "    \n",
    "def run_and_avg(N):\n",
    "    def run_avg_func(func):\n",
    "        def run_avg():\n",
    "            print(f\"Running {N} times\")\n",
    "            return jnp.mean(jnp.vstack([func() for _ in range(N)]), axis=0)\n",
    "        return run_avg\n",
    "    return run_avg_func\n",
    "\n",
    "@run_and_avg(50)\n",
    "def run():\n",
    "    shift = np.random.randint(0, d, N)\n",
    "    y = np.vstack([jnp.roll(x, s) for s in shift])\n",
    "    w = np.random.randn(*y.shape) * noise\n",
    "    y = y + w\n",
    "    \n",
    "    ## FOURIER TRANSFORM\n",
    "    yfft = fft(y, axis=1)\n",
    "\n",
    "    # Moments\n",
    "    #acf_fft = jnp.clip(jnp.mean(np.abs(yfft)**2, axis=0) - noise**2 * d, 0, None)\n",
    "    acf_fft = np.abs(xfft)**2\n",
    "    mean = jnp.mean(yfft[:, 0])\n",
    "\n",
    "    x0 = y[0, :].copy()\n",
    "    xi = ifft(fix_point_iter(fft(x0), yfft, acf_fft, mean, alpha=1.0, tol=1e-10, maxiter=200, callback=cb)).real\n",
    "    xi_al = align(fft(x), fft(xi)[None, :], xi[None, :])[0].real\n",
    "    return jnp.linalg.norm(x - xi_al)/jnp.linalg.norm(x)\n",
    "\n",
    "run()\n"
   ]
  },
  {
   "cell_type": "code",
   "execution_count": 1,
   "metadata": {},
   "outputs": [],
   "source": [
    "# EM-amplitudes (better than ML?)\n",
    "# Ours for phase\n",
    "# Coupled approach? (phase + amplitude)\n",
    "\n",
    "# Plot num iterations as function of noise / running time as function of noise\n",
    "# Recreate the plots and add our method (EM + baseline)\n",
    "# sigma = 1 ~ 77\n",
    "# sigma = 2 ~ 71\n",
    "# sigma = 4 ~ 183\n",
    "# Download the code and generate the plots again.\n",
    "# 1. Plot the running time as function of noise\n",
    "# 2. Plot the number of iterations as function of noise\n",
    "# 3. Plot the relative error as function of noise\n",
    "# 4. Plot the relative error as function of number of iterations\n",
    "\n",
    "# Comparison\n",
    "# Take EM-amplitudes and compare phases to EM-phases\n",
    "# EM on single modes to determine amplitude 1 by 1.\n",
    "\n",
    "# \n",
    "# Giulia, Aurora, Björn, Vahid, Emanuel, Jonathan\n",
    "\n",
    "# https://github.com/NicolasBoumal/MRA\n",
    "\n",
    "# Transactions on Information Theory - Joakim thinks about journals\n",
    "# 30 sec for sigma = 4 to run, d=41, N=1e4 (avg computation times / relative error)"
   ]
  },
  {
   "cell_type": "code",
   "execution_count": 6,
   "metadata": {},
   "outputs": [
    {
     "data": {
      "text/plain": [
       "60.0"
      ]
     },
     "execution_count": 6,
     "metadata": {},
     "output_type": "execute_result"
    }
   ],
   "source": []
  },
  {
   "cell_type": "code",
   "execution_count": 24,
   "metadata": {},
   "outputs": [
    {
     "ename": "NameError",
     "evalue": "name 'yfft' is not defined",
     "output_type": "error",
     "traceback": [
      "\u001b[0;31m---------------------------------------------------------------------------\u001b[0m",
      "\u001b[0;31mNameError\u001b[0m                                 Traceback (most recent call last)",
      "\u001b[1;32m/home/emastr/phd/projects/vahid_project/2023-11-07_meeting.ipynb Cell 5\u001b[0m line \u001b[0;36m2\n\u001b[1;32m     <a href='vscode-notebook-cell://ssh-remote%2Bshepp.math.kth.se/home/emastr/phd/projects/vahid_project/2023-11-07_meeting.ipynb#X13sdnNjb2RlLXJlbW90ZQ%3D%3D?line=20'>21</a>\u001b[0m     plt\u001b[39m.\u001b[39mfigure(\u001b[39m3\u001b[39m)\n\u001b[1;32m     <a href='vscode-notebook-cell://ssh-remote%2Bshepp.math.kth.se/home/emastr/phd/projects/vahid_project/2023-11-07_meeting.ipynb#X13sdnNjb2RlLXJlbW90ZQ%3D%3D?line=21'>22</a>\u001b[0m     plt\u001b[39m.\u001b[39mplot(np\u001b[39m.\u001b[39mabs(x_al\u001b[39m-\u001b[39mx), ls, label\u001b[39m=\u001b[39mni)\n\u001b[0;32m---> <a href='vscode-notebook-cell://ssh-remote%2Bshepp.math.kth.se/home/emastr/phd/projects/vahid_project/2023-11-07_meeting.ipynb#X13sdnNjb2RlLXJlbW90ZQ%3D%3D?line=24'>25</a>\u001b[0m \u001b[39mprint\u001b[39m(\u001b[39mf\u001b[39m\u001b[39m\"\u001b[39m\u001b[39mTRU: \u001b[39m\u001b[39m{\u001b[39;00mnp\u001b[39m.\u001b[39mlinalg\u001b[39m.\u001b[39mnorm(x\u001b[39m \u001b[39m\u001b[39m-\u001b[39m\u001b[39m \u001b[39mx)\u001b[39m/\u001b[39mnp\u001b[39m.\u001b[39mlinalg\u001b[39m.\u001b[39mnorm(x)\u001b[39m:\u001b[39;00m\u001b[39m.4f\u001b[39m\u001b[39m}\u001b[39;00m\u001b[39m, loss: \u001b[39m\u001b[39m{\u001b[39;00mloss_fft(fft(x),\u001b[39m \u001b[39myfft)\u001b[39m:\u001b[39;00m\u001b[39m.4f\u001b[39m\u001b[39m}\u001b[39;00m\u001b[39m\"\u001b[39m)\n\u001b[1;32m     <a href='vscode-notebook-cell://ssh-remote%2Bshepp.math.kth.se/home/emastr/phd/projects/vahid_project/2023-11-07_meeting.ipynb#X13sdnNjb2RlLXJlbW90ZQ%3D%3D?line=27'>28</a>\u001b[0m plt\u001b[39m.\u001b[39mfigure(\u001b[39m1\u001b[39m)\n\u001b[1;32m     <a href='vscode-notebook-cell://ssh-remote%2Bshepp.math.kth.se/home/emastr/phd/projects/vahid_project/2023-11-07_meeting.ipynb#X13sdnNjb2RlLXJlbW90ZQ%3D%3D?line=28'>29</a>\u001b[0m plt\u001b[39m.\u001b[39mlegend()\n",
      "\u001b[0;31mNameError\u001b[0m: name 'yfft' is not defined"
     ]
    },
    {
     "data": {
      "text/plain": [
       "<Figure size 1500x1000 with 0 Axes>"
      ]
     },
     "metadata": {},
     "output_type": "display_data"
    },
    {
     "data": {
      "image/png": "[encoded data removed]",
      "text/plain": [
       "<Figure size 1500x1000 with 1 Axes>"
      ]
     },
     "metadata": {},
     "output_type": "display_data"
    },
    {
     "data": {
      "text/plain": [
       "<Figure size 1500x1000 with 0 Axes>"
      ]
     },
     "metadata": {},
     "output_type": "display_data"
    }
   ],
   "source": [
    "#losses = [losses_fp, losses_pg, losses_pn]\n",
    "names = ['SFP', 'CFP', 'FP']\n",
    "linestyles = ['r-', 'b--', 'g:']\n",
    "\n",
    "plt.figure(1, figsize=(15,10))\n",
    "plt.figure(2, figsize=(15,10))\n",
    "plt.plot(x, 'k', label='true')\n",
    "plt.figure(3, figsize=(15,10))\n",
    "\n",
    "for xi, li, ni, ls in zip(xs, losses, names, linestyles):\n",
    "    x_al = align(fft(x), fft(xi)[None, :], xi[None, :])[0].real\n",
    "    \n",
    "    print(f\"{ni}: {np.linalg.norm(x - x_al)/np.linalg.norm(x):.4f}, loss: {loss_fft(fft(x_al), yfft):.4f}\")\n",
    "    \n",
    "    plt.figure(1)\n",
    "    plt.plot(li, ls + '*', label=ni)    \n",
    "\n",
    "    plt.figure(2)\n",
    "    plt.plot(x_al, ls, label=ni)\n",
    "    \n",
    "    plt.figure(3)\n",
    "    plt.plot(np.abs(x_al-x), ls, label=ni)\n",
    "\n",
    "\n",
    "print(f\"TRU: {np.linalg.norm(x - x)/np.linalg.norm(x):.4f}, loss: {loss_fft(fft(x), yfft):.4f}\")\n",
    "    \n",
    "    \n",
    "plt.figure(1)\n",
    "plt.legend()\n",
    "plt.yscale('log')\n",
    "\n",
    "plt.figure(2)\n",
    "plt.legend()\n",
    "plt.ylim([min(x)-0.4, max(x)+0.4])\n",
    "\n",
    "plt.figure(3)\n",
    "plt.legend()\n",
    "\n"
   ]
  },
  {
   "cell_type": "markdown",
   "metadata": {},
   "source": []
  }
 ],
 "metadata": {
  "kernelspec": {
   "display_name": "pimlenv",
   "language": "python",
   "name": "python3"
  },
  "language_info": {
   "codemirror_mode": {
    "name": "ipython",
    "version": 3
   },
   "file_extension": ".py",
   "mimetype": "text/x-python",
   "name": "python",
   "nbconvert_exporter": "python",
   "pygments_lexer": "ipython3",
   "version": "3.11.4"
  },
  "orig_nbformat": 4
 },
 "nbformat": 4,
 "nbformat_minor": 2
}
