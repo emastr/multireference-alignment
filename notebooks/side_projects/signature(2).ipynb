{
 "cells": [
  {
   "cell_type": "code",
   "execution_count": 1,
   "metadata": {},
   "outputs": [],
   "source": [
    "from PIL import Image, ImageOps\n",
    "import numpy as np\n",
    "\n",
    "def light_kernel(img_path, kernel_size, threshold):\n",
    "    img = Image.open(img_path)\n",
    "    grey_img = ImageOps.grayscale(img)\n",
    "    d = grey_img.getdata()\n",
    "    mat = np.reshape([p for p in d], (grey_img.size[1], grey_img.size[0]))\n",
    "    new_mat = mat.copy()\n",
    "    for row in range(kernel_size, grey_img.size[1] - kernel_size):\n",
    "        for column in range(kernel_size, grey_img.size[0] - kernel_size):\n",
    "            kernel_mean = np.mean(mat[row-kernel_size:row+kernel_size, column-kernel_size:column+kernel_size])\n",
    "            if kernel_mean > threshold:\n",
    "                new_mat[row, column] = 150\n",
    "            else:\n",
    "                new_mat[row, column] = kernel_mean - kernel_mean * 0.5\n",
    "    new_mat[new_mat > threshold] = 150\n",
    "\n",
    "    new_img = Image.fromarray(np.divide(new_mat, 150) * 255)\n",
    "    rgba = new_img.convert(\"RGBA\")\n",
    "    new_d = rgba.getdata()\n",
    "    rgba.putdata([p[:3] + (0,) if np.mean(p) == 255 else p for p in new_d])\n",
    "    rgba.show()\n",
    "    rgba.save(img_path + \"_transparent.png\")\n",
    "    return rgba\n",
    "\n",
    "new = light_kernel(\"DSC_0042.JPG\", 2, 108)\n",
    "\n",
    "# new = light_kernel(\"C:\\\\Users\\\\aalk\\\\Desktop\\\\Jasmine_signature.jpg\", 2, 108)"
   ]
  }
 ],
 "metadata": {
  "kernelspec": {
   "display_name": "test",
   "language": "python",
   "name": "python3"
  },
  "language_info": {
   "codemirror_mode": {
    "name": "ipython",
    "version": 3
   },
   "file_extension": ".py",
   "mimetype": "text/x-python",
   "name": "python",
   "nbconvert_exporter": "python",
   "pygments_lexer": "ipython3",
   "version": "3.12.1"
  }
 },
 "nbformat": 4,
 "nbformat_minor": 2
}
