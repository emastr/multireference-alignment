{
 "cells": [
  {
   "cell_type": "code",
   "execution_count": 1,
   "metadata": {},
   "outputs": [],
   "source": [
    "import jax\n",
    "from jax.numpy.fft import fft, ifft\n",
    "import jax.numpy as jnp\n",
    "import matplotlib.pyplot as plt  \n",
    "from jax import grad, vmap\n",
    "\n",
    "\n",
    "import sys\n",
    "root = '/home/emastr/github/phd/projects/vahid_project/'\n",
    "sys.path.append('..')\n",
    "sys.path.append(f'{root}src/')\n",
    "sys.path.append(f'{root}util/')\n",
    "sys.path.append(f'{root}data/')\n",
    "from multiprocessing import Pool\n",
    "from matplotlib.colors import LogNorm\n",
    "from alignment_vmap import *\n",
    "from alignment_vmap import em_method, fix_point_iter, align_average, autocorr_fft, hessian_declarative, hessian_declarative_real\n",
    "from alignment_vmap import align_average_and_project, align, invariants_from_data, bispectrum_inversion\n",
    "\n",
    "def get_samples(key, x, noise_std, N):\n",
    "    L = len(x)\n",
    "    shiftkey, noisekey = jax.random.split(key, 2)\n",
    "    shift = jax.random.randint(shiftkey, (N,), 0, L)\n",
    "    noise = jax.random.normal(noisekey, (N, L)) * noise_std\n",
    "    y = vmap(lambda s, z: jnp.roll(x + z, s), in_axes=(0, 0))(shift, noise)\n",
    "    return y, noise, shift\n",
    "# Use finite difference hessian for stepping."
   ]
  },
  {
   "cell_type": "code",
   "execution_count": 2,
   "metadata": {},
   "outputs": [
    {
     "name": "stderr",
     "output_type": "stream",
     "text": [
      "No GPU/TPU found, falling back to CPU. (Set TF_CPP_MIN_LOG_LEVEL=0 and rerun for more info.)\n",
      "WARNING: All log messages before absl::InitializeLog() is called are written to STDERR\n",
      "I0000 00:00:1719351950.661544   14200 tfrt_cpu_pjrt_client.cc:349] TfrtCpuClient created.\n"
     ]
    },
    {
     "name": "stdout",
     "output_type": "stream",
     "text": [
      "[1. 1. 1. 1. 1. 1. 1.]\n",
      "0 (3, 0, 0) shift 180 from true: [0 0 0] angles:  [0. 0. 0.] eigs [0.35, 0.29, 0.3]\n",
      "1 (1, 0, 2) shift 180 from true: [0 0 1] angles:  [0.        0.        3.1415927] eigs [-0.32, 0.24, -0.04]\n",
      "2 (1, 0, 2) shift 180 from true: [0 1 0] angles:  [0.        3.1415927 0.       ] eigs [-0.33, -0.04, 0.24]\n",
      "3 (2, 0, 1) shift 180 from true: [0 1 1] angles:  [0.        3.1415927 3.1415927] eigs [-0.34, 0.07, 0.25]\n",
      "4 (1, 0, 2) shift 180 from true: [1 0 0] angles:  [3.1415927 0.        0.       ] eigs [0.23, -0.03, -0.31]\n",
      "5 (2, 0, 1) shift 180 from true: [1 0 1] angles:  [3.1415927 0.        3.1415927] eigs [-0.34, 0.25, 0.03]\n",
      "6 (2, 0, 1) shift 180 from true: [1 1 0] angles:  [3.1415927 3.1415927 0.       ] eigs [-0.32, 0.06, 0.25]\n",
      "7 (0, 0, 3) shift 180 from true: [1 1 1] angles:  [3.1415927 3.1415927 3.1415927] eigs [-0.24, -0.26, -0.27]\n",
      "Morse Index Theorem: 0\n",
      "Index 0: count 1, lower bound 1\n",
      "Index 1: count 3, lower bound 3\n",
      "Index 2: count 3, lower bound 3\n",
      "Index 3: count 1, lower bound 1\n",
      "0\n"
     ]
    },
    {
     "data": {
      "text/plain": [
       "[<matplotlib.lines.Line2D at 0x78b344283c50>]"
      ]
     },
     "execution_count": 2,
     "metadata": {},
     "output_type": "execute_result"
    },
    {
     "data": {
      "image/png": "[encoded data removed]",
      "text/plain": [
       "<Figure size 640x480 with 1 Axes>"
      ]
     },
     "metadata": {},
     "output_type": "display_data"
    }
   ],
   "source": [
    "import math\n",
    "outer = lambda x, y: jnp.einsum('i,j->ij', x.conj(), y)\n",
    "inner = lambda x, y: jnp.einsum('i,i->', x.conj(), y)\n",
    "diff = lambda x: (x - jnp.roll(x, len(x)//10))/float(len(x)//10)*float(len(x))\n",
    "\n",
    "Lhalf = 5\n",
    "L = 2*Lhalf + 1\n",
    "t = jnp.linspace(0, 2*jnp.pi, L+1)[:-1]\n",
    "f = lambda t: t == 0. #> jnp.pi\n",
    "#f = lambda t: t> jnp.pi\n",
    "stdev = 1.#0.01\n",
    "N = 200000\n",
    "x = f(t)\n",
    "y, noise, shift = get_samples(random.PRNGKey(4), x, stdev, N)\n",
    "\n",
    "xfft = fft(x)\n",
    "xfft_abs = jnp.abs(xfft)\n",
    "xfft0 = xfft[0]\n",
    "yfft = fft(y, axis=1)    \n",
    "#ymean, yauto_fft, _ = invariants_from_data(y, stdev)\n",
    "    \n",
    "    \n",
    "def to_xfft(angles, xfft_abs, xfft0):\n",
    "    angles = jnp.concatenate([angles, -angles[::-1]])\n",
    "    xfft = jnp.concatenate([jnp.array([xfft0]), jnp.exp(1j * angles) * xfft_abs[1:]])\n",
    "    return xfft \n",
    "\n",
    "def shift_fft(shift, xfft):\n",
    "    angles = jnp.angle(xfft[1:Lhalf+1])\n",
    "    xfft = to_xfft(angles+shift, jnp.abs(xfft), xfft[0])\n",
    "    return xfft\n",
    "    \n",
    "def loss(xfft):\n",
    "    return loss_fft(xfft, yfft)\n",
    "\n",
    "def loss_angle(angle, xfft_abs, xfft0):\n",
    "    xfft = to_xfft(angle, xfft_abs, xfft0)\n",
    "    return loss(xfft)\n",
    "\n",
    "def e(i):\n",
    "    e = jnp.zeros(Lhalf)\n",
    "    e = e.at[i].set(1.)\n",
    "    return e\n",
    "\n",
    "def hessian_angle(angle, xfft_abs, xfft0, h=1e-3):\n",
    "    L = lambda a: loss_angle(a, xfft_abs, xfft0)\n",
    "    def ddL(a, i, j):\n",
    "        ddL_val = 0.\n",
    "        for p in [-h, h]:\n",
    "            for q in [-h, h]:\n",
    "                ddL_val += L(a + p*e(i) + q*e(j))/(p*q)\n",
    "        return ddL_val\n",
    "    #ddL = lambda a, i, j: L(a + h*e(i) + h*e(j)) - L(a + h*e(i) - h*e(j)) - L(a - h*e(i) + h*e(j)) + L(a -h*e(i)-h*e(j))\n",
    "    hes = jnp.zeros((Lhalf, Lhalf))\n",
    "    for i in range(Lhalf):\n",
    "        for j in range(Lhalf):\n",
    "            hes = hes.at[i, j].set(ddL(angle, i, j))\n",
    "    return hes\n",
    "\n",
    "def compute_index(hes, tol=1e-3):\n",
    "    eigvals = jnp.linalg.eigvals(hes).real\n",
    "    num_pos = (eigvals > tol).sum()\n",
    "    num_neg = (eigvals < -tol).sum()\n",
    "    num_zero = len(eigvals) - num_pos - num_neg\n",
    "    return (int(num_pos), int(num_zero), int(num_neg))\n",
    "    \n",
    "\n",
    "def compute_index2(angle, xfft_abs, xfft0, h=1e-3):\n",
    "    L = lambda a: loss_angle(a, xfft_abs, xfft0)\n",
    "    dL = lambda a, i: L(a + h*e(i)) - L(a)\n",
    "    gradL = jnp.array([dL(angle, i) for i in range(Lhalf)])\n",
    "    return (int((gradL > 0).sum()), int((gradL == 0).sum()), int((gradL < 0).sum()))\n",
    "\n",
    "def test_phase_combos(angles, xfft_abs, xfft0):\n",
    "    morse = 0\n",
    "    crit = jnp.zeros(Lhalf+1, dtype=int)\n",
    "    for it in range(2**Lhalf):\n",
    "        shift = [int(i) for i in bin(it)[2:]]\n",
    "        shift = jnp.array([0]*(Lhalf-len(shift)) + shift)\n",
    "        #angles_shift = angles\n",
    "        angles_shift = angles + jnp.pi * shift\n",
    "        hes = hessian_angle(angles_shift, xfft_abs, xfft0, h=3e-1)#1e-2)\n",
    "        index = compute_index(hes, 0.001)#1e-2)\n",
    "        #index2 = compute_index2(angles_shift, xfft_abs, xfft0, h=1e-2)\n",
    "        crit = crit.at[index[-1]].set(int(crit[index[-1]] + 1))\n",
    "        print(it, index, \"shift 180 from true:\", shift, \"angles: \", angles_shift, \"eigs\", [float(f\"{e:.2f}\") for e in jnp.linalg.eigvals(hes).real])#, index2)\n",
    "        morse += (-1)**index[-1]\n",
    "    print(f\"Morse Index Theorem: {morse}\")\n",
    "    for i in range(Lhalf+1):\n",
    "        print(f\"Index {i}: count {crit[i]}, lower bound {math.comb(Lhalf, i)}\")\n",
    "    return morse\n",
    "        \n",
    "        \n",
    "angles = jnp.angle(xfft[1:Lhalf+1])\n",
    "print(xfft_abs)\n",
    "print(test_phase_combos(angles, xfft_abs, xfft0))\n",
    "plt.plot(ifft(xfft).real) \n",
    "\n",
    "    "
   ]
  }
 ],
 "metadata": {
  "kernelspec": {
   "display_name": "jax",
   "language": "python",
   "name": "python3"
  },
  "language_info": {
   "codemirror_mode": {
    "name": "ipython",
    "version": 3
   },
   "file_extension": ".py",
   "mimetype": "text/x-python",
   "name": "python",
   "nbconvert_exporter": "python",
   "pygments_lexer": "ipython3",
   "version": "3.11.5"
  }
 },
 "nbformat": 4,
 "nbformat_minor": 2
}
