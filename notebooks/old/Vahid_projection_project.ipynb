{
 "cells": [
  {
   "cell_type": "code",
   "execution_count": 1,
   "id": "30ffcf0f",
   "metadata": {},
   "outputs": [],
   "source": [
    "import numpy as np\n",
    "import matplotlib.pyplot as plt"
   ]
  },
  {
   "cell_type": "markdown",
   "id": "4e4afb42",
   "metadata": {},
   "source": [
    "Convergence is very fast. "
   ]
  },
  {
   "cell_type": "code",
   "execution_count": 2,
   "id": "f47e29b2",
   "metadata": {},
   "outputs": [],
   "source": [
    "import numpy as np\n",
    "import matplotlib.pyplot as plt\n",
    "from multiprocessing import Pool\n",
    "\n"
   ]
  },
  {
   "cell_type": "code",
   "execution_count": 3,
   "id": "05893324",
   "metadata": {},
   "outputs": [],
   "source": [
    "PROCESSES = 32\n",
    "\n",
    "def mom1(x):\n",
    "    return np.mean(x)\n",
    "\n",
    "def mom2(x):\n",
    "    return np.mean(x**2)\n",
    "\n",
    "def grad_proj(y, x, a, b):\n",
    "    g1 = np.linalg.det(np.vstack([x-y, np.ones_like(x), y]))\n",
    "    g2 = mom1(y) - a\n",
    "    g3 = mom2(y) - b\n",
    "\n",
    "def project(x, a, b, tol=1e-4):\n",
    "    xp = np.zeros_like(x)\n",
    "    unit_n = np.ones_like(x) / np.sqrt(len(x))\n",
    "    a_n = np.ones_like(x) * a\n",
    "    \n",
    "    while np.linalg.norm(x-xp) >= tol:\n",
    "        xp = x\n",
    "        delta_x = x - a_n\n",
    "        proj_n = np.dot(delta_x, unit_n) * unit_n\n",
    "        x = x - proj_n\n",
    "        x = x * np.sqrt(b / mom2(x))\n",
    "    return x\n",
    "\n",
    "\n",
    "def project_step(x, grad, delta, a, b, tol):\n",
    "    return project(x + delta * grad, a, b, tol)\n",
    "\n",
    "def get_func(x, lam, a, b, ys):\n",
    "    #print(((grad_target_sum(x, ys) + get_constraint_jac(x).T @ lam.T)[:, None]).shape)\n",
    "    return np.vstack([(grad_target_sum(x, ys) + get_constraint_jac(x).T @ lam.T)[:, None], \n",
    "                      get_constraint(x, a, b)])\n",
    "\n",
    "def get_jac(x, lam, a, b, ys):\n",
    "    hes = get_constraint_hess(x)\n",
    "    gradLoss = np.eye(len(x)) + sum([l * h for l, h in zip(lam, hes)])\n",
    "    gradConstr = get_constraint_jac(x)\n",
    "    #print(gradLoss.shape, gradConstr.shape)\n",
    "\n",
    "    return np.vstack([np.hstack([gradLoss, gradConstr.T]),\n",
    "                      np.hstack([gradConstr, np.zeros((len(lam),len(lam)))]) \n",
    "                      ])\n",
    "\n",
    "def get_constraint(x, a, b):\n",
    "    return np.vstack([mom1(x)-a, \n",
    "                     mom2(x)-b])\n",
    "\n",
    "def get_constraint_jac(x):\n",
    "    return np.vstack([np.ones_like(x), 2*x])\n",
    "\n",
    "\n",
    "def get_constraint_hess(x):\n",
    "    n = len(x)\n",
    "    return [np.zeros((n,n)), 2*np.ones((n,n))]\n",
    "\n",
    "def newton(x, lam, a, b, ys, step=0.1, tol=1e-5):\n",
    "    xp = np.zeros_like(x)\n",
    "    x = xp + 0.001\n",
    "    y = np.vstack([x[:, None], lam[:, None]])\n",
    "    it = 0\n",
    "    while np.linalg.norm(x-xp) >= tol:\n",
    "        it += 1\n",
    "        xp = x\n",
    "        Jf = get_jac(x, lam, a, b, ys) \n",
    "        f = get_func(x, lam, a, b, ys)\n",
    "        res = np.linalg.solve(Jf.T @ Jf, Jf.T @ f)\n",
    "        if it % 100 == 0:\n",
    "            print(it, x, np.linalg.norm(f))\n",
    "        y = y - step * res\n",
    "        x = y[:len(x)].flatten()\n",
    "        lam = y[len(x):].flatten()\n",
    "    return x.flatten()\n",
    "\n",
    "def target(x, y):\n",
    "    # target\n",
    "    imin = 0\n",
    "    val = mom2(x - y)\n",
    "    for i in range(1, len(y)):\n",
    "        new_val = mom2(x-np.roll(y, i))\n",
    "        val = min(val, new_val)\n",
    "        if val == new_val:\n",
    "            imin = i\n",
    "    return val, imin\n",
    "\n",
    "def grad_target(x, y):\n",
    "    # Grad wrt x\n",
    "    val, imin = target(x, y)\n",
    "    ry = np.roll(y, imin)\n",
    "    return 2 * (x - ry)\n",
    "\n",
    "def target_sum(x, ys):\n",
    "    t = 0\n",
    "    for y in ys:\n",
    "        a, _ = target(x, y)#/len(ys)\n",
    "        t += a/len(ys)#mom2(x - y) / len(ys)\n",
    "    return t\n",
    "\n",
    "def grad_target_pickled(args):\n",
    "    return grad_target(args[0], args[1])\n",
    "\n",
    "def grad_target_sum_pool(x, ys):\n",
    "    p = Pool(PROCESSES)\n",
    "    grad = np.zeros_like(x)\n",
    "    out = p.map(grad_target_pickled, [(x, y) for y in ys])\n",
    "    for o in out:\n",
    "        grad += o / len(ys)\n",
    "    return grad\n",
    "\n",
    "def grad_target_sum(x, ys):\n",
    "    grad = np.zeros_like(x)\n",
    "    for y in ys:\n",
    "        grad += grad_target(x, y) / len(ys)\n",
    "    return grad\n",
    "\n",
    "def projected_descent(x0, ys, delta, eps, maxit, tol, signal):\n",
    "    flaty = ys.flatten()\n",
    "    a = mom1(signal) #mom1(flaty)\n",
    "    b = mom2(signal) #mom2(flaty)-eps**2\n",
    "    x = x0\n",
    "    for i in range(maxit):\n",
    "        x0 = x\n",
    "        grad = grad_target_sum(x, ys)\n",
    "        x = project_step(x, -grad, delta, a, b, tol)\n",
    "        print(np.linalg.norm(x - x0), end='\\r')\n",
    "    return x\n",
    "\n",
    "\n",
    "def newton_iter(x0, ys, eps, delta, tol):\n",
    "    flaty = ys.flatten()\n",
    "    a = mom1(flaty)\n",
    "    b = mom2(flaty)-eps**2\n",
    "    x = newton(x0, np.ones(2,), a, b, ys, step=delta, tol=tol)\n",
    "    return x\n"
   ]
  },
  {
   "cell_type": "code",
   "execution_count": 7,
   "id": "be75bb5d",
   "metadata": {},
   "outputs": [
    {
     "name": "stdout",
     "output_type": "stream",
     "text": [
      "100 [ 0.63681589 -2.94721786  2.61944646] 16373.838679137214\n",
      "200 [ 0.73734282 -2.67625838  2.50981653] 9371.750960970461\n",
      "300 [ 0.80995932 -2.4274158   2.40998334] 5403.593480027597\n",
      "400 [ 0.88180963 -2.20677565  2.30506908] 3136.621161671489\n",
      "500 [ 0.92138069 -2.0015771   2.21905722] 1831.7467033994085\n",
      "600 [ 0.94299184 -1.81424895  2.14448477] 1075.474784418557\n",
      "700 [ 0.95456113 -1.64505619  2.07744599] 634.4358863060737\n",
      "800 [ 0.96038884 -1.49326845  2.01608181] 375.81460919069093\n",
      "900 [ 0.96281065 -1.35772913  1.95958432] 223.42706908656686\n",
      "1000 [ 0.96312947 -1.23713707  1.90762131] 133.25688539404513\n",
      "1100 [ 0.96211372 -1.1301817   1.8600367 ] 79.706484047271\n",
      "1200 [ 0.96025085 -1.03560314  1.81671059] 47.8030193705229\n",
      "1300 [ 0.95787174 -0.95221499  1.77750311] 28.74359328340908\n",
      "1400 [ 0.9552113  -0.87891033  1.74223822] 17.32973800560786\n",
      "1500 [ 0.95243914 -0.81466094  1.7107048 ] 10.47975363996585\n",
      "1600 [ 0.94967682 -0.75851449  1.68266403] 6.360755360250958\n",
      "1700 [ 0.94700909 -0.70959156  1.65785854] 3.8795329489110557\n",
      "1800 [ 0.9444922  -0.66708301  1.63602113] 2.382470264682819\n",
      "1900 [ 0.9421604  -0.63024756  1.6168826 ] 1.4779452812808656\n",
      "2000 [ 0.94003131 -0.59840961  1.60017822] 0.9308295146397222\n",
      "2100 [ 0.93811033 -0.5709568   1.5856529 ] 0.5996057337182777\n",
      "2200 [ 0.93639413 -0.54733729  1.57306512] 0.39878550473673396\n",
      "2300 [ 0.93487348 -0.52705675  1.56218956] 0.2764474505605506\n",
      "2400 [ 0.93353543 -0.50967492  1.55281878] 0.2009083265682537\n",
      "2500 [ 0.93236495 -0.49480186  1.544764  ] 0.15290608704774572\n",
      "2600 [ 0.93134614 -0.48209401  1.53785506] 0.12096038056749883\n",
      "2700 [ 0.93046308 -0.47125018  1.53193997] 0.09844708358702942\n",
      "2800 [ 0.92970043 -0.46200742  1.526884  ] 0.08165578666878336\n",
      "2900 [ 0.92904379 -0.45413715  1.52256844] 0.0685315733691633\n",
      "3000 [ 0.92847987 -0.44744136  1.51888938] 0.05791951659694148\n",
      "3100 [ 0.92799666 -0.44174904  1.51575624] 0.04914367424145249\n",
      "3200 [ 0.92758338 -0.43691293  1.51309044] 0.04178383361479657\n",
      "3300 [ 0.92723048 -0.43280653  1.51082404] 0.03555975157223385\n",
      "3400 [ 0.92692953 -0.42932142  1.50889849] 0.030271179744699863\n",
      "3500 [ 0.92667319 -0.4263648   1.50726346] 0.025766315842571504\n",
      "3600 [ 0.92645505 -0.42385741  1.5058758 ] 0.021924744746778108\n",
      "3700 [ 0.92626958 -0.42173164  1.50469857] 0.018647853447187647\n",
      "3800 [ 0.92611199 -0.41992986  1.50370022] 0.01585317417015125\n",
      "3900 [ 0.92597818 -0.41840303  1.50285381] 0.013470841611549255\n",
      "4000 [ 0.9258646  -0.41710943  1.50213642] 0.011441221170529467\n",
      "4100 [ 0.92576825 -0.41601361  1.50152851] 0.00971320960330259\n",
      "[1. 1. 0.] [ 0.92569565 -0.41518886  1.50107085]\n"
     ]
    }
   ],
   "source": [
    "x = np.array([1., 1, 0]) \n",
    "\n",
    "N = 1e6\n",
    "ys = np.zeros((N, 3))\n",
    "eps = 2.\n",
    "for n in range(N):\n",
    "    ys[n, :] = np.roll(x, np.random.randint(0, 3)) + eps * np.random.randn(3)\n",
    "    \n",
    "#print(ys)\n",
    "#m1 = mom1(ys.flattean())\n",
    "#m2 = mom2(ys.flatten())\n",
    "#print(m1)\n",
    "#print(project(x, 1/3, 1/3, 1e-4))\n",
    "#print(target(x, np.roll(x, 1)))\n",
    "\n",
    "x0 = ys[0]\n",
    "delta = 0.005\n",
    "#x_rec = projected_descent(x0, ys, delta, eps, maxit=100, tol=1e-6, signal=x)\n",
    "x_rec = newton_iter(x, ys, eps, delta, tol=1e-5)\n",
    "print(x, x_rec)"
   ]
  },
  {
   "cell_type": "code",
   "execution_count": 8,
   "id": "6f47df5c",
   "metadata": {},
   "outputs": [
    {
     "name": "stdout",
     "output_type": "stream",
     "text": [
      "Rec [ 0.92569565 -0.41518886  1.50107085] 0.6705258788176619 1.0941693067849518\n",
      "True [1. 1. 0.] 0.6666666666666666 0.6666666666666666\n",
      "Data 0.6711467300333428 1.089543554514437\n",
      "Rec 3.102043594907103\n",
      "True 3.597451879315316\n"
     ]
    }
   ],
   "source": [
    "print(\"Rec\",x_rec, mom1(x_rec), mom2(x_rec))\n",
    "print(\"True\",x, mom1(x), mom2(x))\n",
    "print(\"Data\", mom1(ys.flatten()), mom2(ys.flatten())-eps**2)\n",
    "print(\"Rec\", target_sum(x_rec, ys))\n",
    "print(\"True\", target_sum(x, ys))"
   ]
  },
  {
   "cell_type": "code",
   "execution_count": 9,
   "id": "03e1bb2b",
   "metadata": {},
   "outputs": [],
   "source": [
    "x = np.array([1., 1., 0])\n",
    "a = mom1(x)\n",
    "b = mom2(x)\n",
    "\n",
    "\n",
    "def rad_cent(a, b):\n",
    "    #c0 = np.array([0, 0, 0])\n",
    "    n = np.array([1., 1., 1.])\n",
    "    e1 = np.array([1, -1, 0])\n",
    "    e1 = e1/ np.linalg.norm(e1)\n",
    "    e2 = np.array([1, 1, -2])\n",
    "    e2 = e2/ np.linalg.norm(e2)\n",
    "    return np.sqrt(3 * b - 3 * a**2), a * n, e1, e2\n",
    "\n",
    "r, n, e1, e2 = rad_cent(a,b)\n",
    "\n",
    "theta = np.linspace(0, 2*np.pi, 100)[:, None]\n",
    "\n",
    "x = np.cos(theta) * e1[None, :] * r + np.sin(theta) * e2[None, :] * r + n  \n",
    "loss = []\n",
    "for x_elm in x: \n",
    "    s = target_sum(x_elm, ys)\n",
    "    loss.append(s)"
   ]
  },
  {
   "cell_type": "code",
   "execution_count": 10,
   "id": "34cfedc8",
   "metadata": {},
   "outputs": [
    {
     "name": "stdout",
     "output_type": "stream",
     "text": [
      "[ 0.92569565 -0.41518886  1.50107085]\n"
     ]
    },
    {
     "data": {
      "image/png": "[encoded data removed]",
      "text/plain": [
       "<Figure size 432x288 with 1 Axes>"
      ]
     },
     "metadata": {
      "needs_background": "light"
     },
     "output_type": "display_data"
    }
   ],
   "source": [
    "plt.plot(theta, loss)\n",
    "\n",
    "s = target_sum(x_rec, ys)\n",
    "plt.plot(theta, s  + theta * 0)\n",
    "print(x_rec)"
   ]
  },
  {
   "cell_type": "markdown",
   "id": "434d8960",
   "metadata": {},
   "source": [
    "Example: Robin conditions on second order diff equation on the line:\n",
    "\n",
    "\\begin{equation}\n",
    "       y''(x) + y(x) = 1,\\; x \\in [0, 1] \\qquad y'(0) + y(0) = y'(1) + y(1) = 0\n",
    "\\end{equation}\n",
    "\n"
   ]
  },
  {
   "cell_type": "code",
   "execution_count": 12,
   "id": "a5fa919a",
   "metadata": {},
   "outputs": [
    {
     "name": "stdout",
     "output_type": "stream",
     "text": [
      "0\r\n",
      "1\r\n",
      "2\r\n",
      "3\r\n",
      "4\r\n",
      "5\r\n",
      "6\r\n",
      "7\r\n",
      "8\r\n",
      "9\r\n",
      "10\r\n",
      "11\r\n",
      "12\r\n",
      "13\r\n",
      "14\r\n",
      "15\r\n",
      "16\r\n",
      "17\r\n",
      "18\r\n",
      "19\r"
     ]
    },
    {
     "data": {
      "text/plain": [
       "[<matplotlib.lines.Line2D at 0x7f207c100790>]"
      ]
     },
     "execution_count": 12,
     "metadata": {},
     "output_type": "execute_result"
    },
    {
     "data": {
      "image/png": "[encoded data removed]",
      "text/plain": [
       "<Figure size 432x288 with 1 Axes>"
      ]
     },
     "metadata": {
      "needs_background": "light"
     },
     "output_type": "display_data"
    },
    {
     "data": {
      "image/png": "[encoded data removed]",
      "text/plain": [
       "<Figure size 432x288 with 1 Axes>"
      ]
     },
     "metadata": {
      "needs_background": "light"
     },
     "output_type": "display_data"
    }
   ],
   "source": [
    "N = 50\n",
    "h = 1/(N-1)\n",
    "x = np.linspace(0, 1, N)\n",
    "\n",
    "# Construct system matrices\n",
    "A = -np.diag(np.ones((N-3,)), k=-1)\n",
    "A = (A + np.diag(2*np.ones((N-2,)), k=0) + A.T)\n",
    "A = np.eye(N-2)*h**2 + A\n",
    "\n",
    "A_dir = A\n",
    "A_neu = A.copy()\n",
    "A_neu[0,0] -= 1\n",
    "A_neu[-1,-1] -= 1\n",
    "\n",
    "def get_rhs(a,b):\n",
    "    rhs = np.ones((N-2,)) * h**2\n",
    "    rhs[0] += -a \n",
    "    rhs[-1] += -b\n",
    "    return rhs\n",
    "\n",
    "def solve_dir(rhs):\n",
    "    u = np.zeros((N,))\n",
    "    u[1:-1] = np.linalg.solve(A_dir, rhs)\n",
    "    u[0] = rhs[0]\n",
    "    u[-1] = rhs[-1]\n",
    "    return u\n",
    "\n",
    "def solve_neu(rhs):\n",
    "    u = np.zeros((N,))\n",
    "    u[1:-1] = np.linalg.solve(A_neu, rhs)\n",
    "    # Extrap.\n",
    "    u[0] = u[1] - rhs[0] * h\n",
    "    u[-1] = u[-2] + rhs[-1] * h\n",
    "    return u\n",
    "\n",
    "\n",
    "\n",
    "u_d = np.sin(x)\n",
    "u_n = np.sin(x)\n",
    "\n",
    "u_d_tmp = u_d.copy()\n",
    "error = []\n",
    "\n",
    "for i in range(20):\n",
    "    print(i, end='\\r')\n",
    "    # Update boundaries\n",
    "    rhs_d = get_rhs(-10*(u_n[1]-u_n[0])+1, 10*(u_n[-1] - u_n[-2])+1)\n",
    "    #rhs_n = get_rhs(-u_d[0], -u_d[-1])\n",
    "    #rhs_n = get_rhs(- (u_d[1]-u_d[0]), -(u_d[-1] - u_d[-2]))\n",
    "    \n",
    "    # Solve system\n",
    "    #u_d = solve_dir(rhs_d)\n",
    "    #u_n = solve_neu(rhs_n)\n",
    "    u_n = solve_dir(rhs_d)\n",
    "    u_d = u_n\n",
    "    \n",
    "    error.append(np.linalg.norm(u_d_tmp - u_d))\n",
    "    u_d_tmp = u_d.copy()\n",
    "\n",
    "plt.semilogy(np.abs(error))\n",
    "\n",
    "plt.figure()\n",
    "plt.plot(x, u_d+u_n)\n",
    "\n",
    "\n",
    "\n",
    "\n",
    "#def solve_dir(, a, b)"
   ]
  },
  {
   "cell_type": "code",
   "execution_count": 9,
   "id": "2c7d3203",
   "metadata": {},
   "outputs": [
    {
     "data": {
      "text/plain": [
       "array([0.00914259, 0.01786868, 0.02660221, 0.03493034, 0.04285651,\n",
       "       0.05038405, 0.05751607, 0.06425556, 0.07060531, 0.07656798,\n",
       "       0.08214605, 0.08734183, 0.0921575 , 0.09659506, 0.10065636,\n",
       "       0.10434309, 0.10765678, 0.11059882, 0.11317043, 0.11537268,\n",
       "       0.11720649, 0.11867262, 0.11977168, 0.12050414, 0.12087029,\n",
       "       0.12087029, 0.12050414, 0.11977168, 0.11867262, 0.11720649,\n",
       "       0.11537268, 0.11317043, 0.11059882, 0.10765678, 0.10434309,\n",
       "       0.10065636, 0.09659506, 0.0921575 , 0.08734183, 0.08214605,\n",
       "       0.07656798, 0.07060531, 0.06425556, 0.05751607, 0.05038405,\n",
       "       0.04285651, 0.03493034, 0.02660221, 0.01786868, 0.00914259])"
      ]
     },
     "execution_count": 9,
     "metadata": {},
     "output_type": "execute_result"
    }
   ],
   "source": [
    "u_n"
   ]
  }
 ],
 "metadata": {
  "kernelspec": {
   "display_name": "Physics Informed Machine Learning Environment",
   "language": "python",
   "name": "pimlenv"
  },
  "language_info": {
   "codemirror_mode": {
    "name": "ipython",
    "version": 3
   },
   "file_extension": ".py",
   "mimetype": "text/x-python",
   "name": "python",
   "nbconvert_exporter": "python",
   "pygments_lexer": "ipython3",
   "version": "3.8.12"
  }
 },
 "nbformat": 4,
 "nbformat_minor": 5
}
