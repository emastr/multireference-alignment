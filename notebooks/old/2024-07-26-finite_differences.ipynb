{
 "cells": [
  {
   "cell_type": "code",
   "execution_count": 28,
   "metadata": {},
   "outputs": [
    {
     "name": "stdout",
     "output_type": "stream",
     "text": [
      "[[ 0.99 -0.01 -0.01]\n",
      " [-0.01  0.99 -0.01]\n",
      " [-0.01 -0.01  0.99]]\n",
      "[[ 0.99 -0.01 -0.01]\n",
      " [-0.01  0.99 -0.01]\n",
      " [-0.01 -0.01  0.99]]\n",
      "[[ 0.99 -0.01 -0.01]\n",
      " [-0.01  0.99 -0.01]\n",
      " [-0.01 -0.01  0.99]]\n"
     ]
    }
   ],
   "source": [
    "import numpy as np\n",
    "\n",
    "v = np.array([1, 1, 1])\n",
    "A = np.eye(3) - 0.01 * v * v.T\n",
    "\n",
    "def f(x):\n",
    "    return np.dot(x, np.dot(A, x)) * 0.5\n",
    "\n",
    "print(A)\n",
    "\n",
    "def hessian(f, x, h=1e-5):\n",
    "    I = np.eye(len(x))\n",
    "    H = np.zeros((len(x), len(x)))\n",
    "    for i in range(len(x)):\n",
    "        for j in range(len(x)):\n",
    "            for p in [-h, h]:\n",
    "                for q in [-h, h]:\n",
    "                    H[i, j] += f(x + p * I[i] + q * I[j]) / (2*2*p*q)\n",
    "    return H\n",
    "\n",
    "\n",
    "def hessian_rand(f, x, h=1e-5, N=10):\n",
    "    w = np.random.standard_normal((len(x), N))\n",
    "    v = np.random.standard_normal((len(x), N))\n",
    "    u = np.zeros(N)\n",
    "    for i in range(N):\n",
    "        for p in [-h, h]:\n",
    "            for q in [-h, h]:\n",
    "                u[i] += f(x + p * w[:, i] + q * v[:, i]) / (4*p*q)\n",
    "    wv_flat = (w[:, None, :] * v[None, :, :]).reshape(len(x)*len(x), N).T\n",
    "    H_flat = np.reshape(np.linalg.solve(wv_flat.T @ wv_flat, wv_flat.T @ u), (len(x), len(x)))\n",
    "    return H_flat\n",
    "    \n",
    "    \n",
    "    \n",
    "\n",
    "print(hessian(f, np.array([1, 1, 1]), h=1e-1))\n",
    "print(hessian_rand(f, np.array([1, 1, 1]), h=1e-1, N=10))"
   ]
  }
 ],
 "metadata": {
  "kernelspec": {
   "display_name": "jax",
   "language": "python",
   "name": "python3"
  },
  "language_info": {
   "codemirror_mode": {
    "name": "ipython",
    "version": 3
   },
   "file_extension": ".py",
   "mimetype": "text/x-python",
   "name": "python",
   "nbconvert_exporter": "python",
   "pygments_lexer": "ipython3",
   "version": "3.11.5"
  }
 },
 "nbformat": 4,
 "nbformat_minor": 2
}
